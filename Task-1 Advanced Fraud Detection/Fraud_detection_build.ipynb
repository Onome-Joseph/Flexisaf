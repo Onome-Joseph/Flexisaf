{
 "cells": [
  {
   "cell_type": "markdown",
   "id": "f3eee641-5a76-4255-8ca5-a105666d7549",
   "metadata": {},
   "source": [
    "# Fraud Detection Machine Learning Model"
   ]
  },
  {
   "cell_type": "markdown",
   "id": "3e6f131c-6f8f-48a0-94db-1e1d819e04d7",
   "metadata": {},
   "source": [
    "### Built with Ensemble learning, Hyperparameter Optimization and Explainable AI(XAI) "
   ]
  },
  {
   "cell_type": "markdown",
   "id": "dd9a90a6-07dd-47df-b86a-4cc0baeb40c3",
   "metadata": {},
   "source": [
    "# Ensemble Learning and Hyperparameter Optimization"
   ]
  },
  {
   "cell_type": "markdown",
   "id": "e62b3d00-c5b6-44f1-8d40-10b029b4825e",
   "metadata": {},
   "source": [
    "- ### Using Logistic Regression, Random forest and XGBClassifier (Extreme Gradient Boosting)\n",
    "- ### Optimized with different hyperparameters to improve performance through fine-tuning.\n",
    "- ### We are focused on ***Precision*** and ***F1- Score*** rather than just accuracy since we are dealing with a Fraud detection model."
   ]
  },
  {
   "cell_type": "code",
   "execution_count": 1,
   "id": "151933e8-145e-4816-8119-b969b6844934",
   "metadata": {},
   "outputs": [],
   "source": [
    "import pandas as pd\n",
    "import numpy as np\n",
    "from collections import Counter\n",
    "\n",
    "# To suppress warnings\n",
    "import warnings\n",
    "warnings.filterwarnings('ignore')"
   ]
  },
  {
   "cell_type": "code",
   "execution_count": 2,
   "id": "c72d8146-a863-4085-adc6-8e270454039f",
   "metadata": {},
   "outputs": [
    {
     "data": {
      "text/html": [
       "<div>\n",
       "<style scoped>\n",
       "    .dataframe tbody tr th:only-of-type {\n",
       "        vertical-align: middle;\n",
       "    }\n",
       "\n",
       "    .dataframe tbody tr th {\n",
       "        vertical-align: top;\n",
       "    }\n",
       "\n",
       "    .dataframe thead th {\n",
       "        text-align: right;\n",
       "    }\n",
       "</style>\n",
       "<table border=\"1\" class=\"dataframe\">\n",
       "  <thead>\n",
       "    <tr style=\"text-align: right;\">\n",
       "      <th></th>\n",
       "      <th>type</th>\n",
       "      <th>amount</th>\n",
       "      <th>newbalanceOrig</th>\n",
       "      <th>newbalanceDest</th>\n",
       "      <th>isFraud</th>\n",
       "    </tr>\n",
       "  </thead>\n",
       "  <tbody>\n",
       "    <tr>\n",
       "      <th>0</th>\n",
       "      <td>DEBIT</td>\n",
       "      <td>5337.77</td>\n",
       "      <td>36382.23</td>\n",
       "      <td>40348.79</td>\n",
       "      <td>0</td>\n",
       "    </tr>\n",
       "    <tr>\n",
       "      <th>1</th>\n",
       "      <td>DEBIT</td>\n",
       "      <td>9644.94</td>\n",
       "      <td>0.00</td>\n",
       "      <td>157982.12</td>\n",
       "      <td>0</td>\n",
       "    </tr>\n",
       "    <tr>\n",
       "      <th>2</th>\n",
       "      <td>CASH_OUT</td>\n",
       "      <td>229133.94</td>\n",
       "      <td>0.00</td>\n",
       "      <td>51513.44</td>\n",
       "      <td>0</td>\n",
       "    </tr>\n",
       "    <tr>\n",
       "      <th>3</th>\n",
       "      <td>DEBIT</td>\n",
       "      <td>9302.79</td>\n",
       "      <td>1996.21</td>\n",
       "      <td>16896.70</td>\n",
       "      <td>0</td>\n",
       "    </tr>\n",
       "    <tr>\n",
       "      <th>4</th>\n",
       "      <td>TRANSFER</td>\n",
       "      <td>311685.89</td>\n",
       "      <td>0.00</td>\n",
       "      <td>2719172.89</td>\n",
       "      <td>0</td>\n",
       "    </tr>\n",
       "    <tr>\n",
       "      <th>...</th>\n",
       "      <td>...</td>\n",
       "      <td>...</td>\n",
       "      <td>...</td>\n",
       "      <td>...</td>\n",
       "      <td>...</td>\n",
       "    </tr>\n",
       "    <tr>\n",
       "      <th>3923181</th>\n",
       "      <td>CASH_OUT</td>\n",
       "      <td>63416.99</td>\n",
       "      <td>0.00</td>\n",
       "      <td>339850.17</td>\n",
       "      <td>1</td>\n",
       "    </tr>\n",
       "    <tr>\n",
       "      <th>3923182</th>\n",
       "      <td>CASH_OUT</td>\n",
       "      <td>1258818.82</td>\n",
       "      <td>0.00</td>\n",
       "      <td>1762283.33</td>\n",
       "      <td>1</td>\n",
       "    </tr>\n",
       "    <tr>\n",
       "      <th>3923183</th>\n",
       "      <td>CASH_OUT</td>\n",
       "      <td>339682.13</td>\n",
       "      <td>0.00</td>\n",
       "      <td>339682.13</td>\n",
       "      <td>1</td>\n",
       "    </tr>\n",
       "    <tr>\n",
       "      <th>3923184</th>\n",
       "      <td>CASH_OUT</td>\n",
       "      <td>6311409.28</td>\n",
       "      <td>0.00</td>\n",
       "      <td>6379898.11</td>\n",
       "      <td>1</td>\n",
       "    </tr>\n",
       "    <tr>\n",
       "      <th>3923185</th>\n",
       "      <td>CASH_OUT</td>\n",
       "      <td>850002.52</td>\n",
       "      <td>0.00</td>\n",
       "      <td>7360101.63</td>\n",
       "      <td>1</td>\n",
       "    </tr>\n",
       "  </tbody>\n",
       "</table>\n",
       "<p>3923186 rows × 5 columns</p>\n",
       "</div>"
      ],
      "text/plain": [
       "             type      amount  newbalanceOrig  newbalanceDest  isFraud\n",
       "0           DEBIT     5337.77        36382.23        40348.79        0\n",
       "1           DEBIT     9644.94            0.00       157982.12        0\n",
       "2        CASH_OUT   229133.94            0.00        51513.44        0\n",
       "3           DEBIT     9302.79         1996.21        16896.70        0\n",
       "4        TRANSFER   311685.89            0.00      2719172.89        0\n",
       "...           ...         ...             ...             ...      ...\n",
       "3923181  CASH_OUT    63416.99            0.00       339850.17        1\n",
       "3923182  CASH_OUT  1258818.82            0.00      1762283.33        1\n",
       "3923183  CASH_OUT   339682.13            0.00       339682.13        1\n",
       "3923184  CASH_OUT  6311409.28            0.00      6379898.11        1\n",
       "3923185  CASH_OUT   850002.52            0.00      7360101.63        1\n",
       "\n",
       "[3923186 rows x 5 columns]"
      ]
     },
     "execution_count": 2,
     "metadata": {},
     "output_type": "execute_result"
    }
   ],
   "source": [
    "data = pd.read_csv(\"processed_data/Fraud(preprocessed).csv\")\n",
    "data"
   ]
  },
  {
   "cell_type": "code",
   "execution_count": 3,
   "id": "59010b7e-2d19-451a-b658-99a5e04a37ee",
   "metadata": {},
   "outputs": [
    {
     "data": {
      "text/plain": [
       "isFraud\n",
       "0    3919064\n",
       "1       4122\n",
       "Name: count, dtype: int64"
      ]
     },
     "execution_count": 3,
     "metadata": {},
     "output_type": "execute_result"
    }
   ],
   "source": [
    "data['isFraud'].value_counts()"
   ]
  },
  {
   "cell_type": "markdown",
   "id": "d6fc82eb-7473-4cb0-85a0-e66b8b5f0260",
   "metadata": {},
   "source": [
    "## The data is unbalanced\n",
    "### N/B: An unbalanced dataset affects precision and accuracy score in evaluation metrics"
   ]
  },
  {
   "cell_type": "markdown",
   "id": "223e883f-2879-45de-a58a-243e3f72d715",
   "metadata": {},
   "source": [
    "## Handling Class Imbalances"
   ]
  },
  {
   "cell_type": "code",
   "execution_count": 4,
   "id": "b70003a6-dd7e-43f8-af77-2a93f59f1055",
   "metadata": {},
   "outputs": [],
   "source": [
    "# Seperating the data in the 'isFraud' column ( 0 & 1)\n",
    "notFraud = data[data['isFraud'] == 0]\n",
    "fraud = data[data['isFraud'] == 1]\n",
    "\n",
    "# To balance the data\n",
    "notFraud = notFraud.sample(fraud.shape[0])\n",
    "\n",
    "# Joining the dataset; notFraud and fraud together into the final dataframe for prediction\n",
    "balanced_data = pd.concat([notFraud, fraud], axis=0)"
   ]
  },
  {
   "cell_type": "code",
   "execution_count": 5,
   "id": "7f5354b8-2912-42d2-9389-d40836ddfd0b",
   "metadata": {},
   "outputs": [],
   "source": [
    "data = balanced_data.copy()"
   ]
  },
  {
   "cell_type": "markdown",
   "id": "0c09cb05-250c-4c0d-980b-592b3f4ef1ba",
   "metadata": {},
   "source": [
    "## Transform the categorical data to numerical data"
   ]
  },
  {
   "cell_type": "code",
   "execution_count": 6,
   "id": "d8ef97d7-87b4-4eb0-ae5e-542f5ae081e1",
   "metadata": {},
   "outputs": [],
   "source": [
    "from sklearn.preprocessing import LabelEncoder"
   ]
  },
  {
   "cell_type": "code",
   "execution_count": 7,
   "id": "3c0c0379-79dc-4c4f-a10f-56d36b4c05c9",
   "metadata": {},
   "outputs": [],
   "source": [
    "label_encoder = LabelEncoder()\n",
    "\n",
    "for col in data.select_dtypes(include = ['object', 'category']).columns:\n",
    "    data[col] = label_encoder.fit_transform(data[col])"
   ]
  },
  {
   "cell_type": "code",
   "execution_count": 8,
   "id": "904e0b45-44af-4761-9cfd-6848ff59907f",
   "metadata": {},
   "outputs": [],
   "source": [
    "# Separate features (X) and target variable (y)\n",
    "X = data.drop('isFraud', axis=1)\n",
    "y = data['isFraud']"
   ]
  },
  {
   "cell_type": "code",
   "execution_count": 9,
   "id": "f532d6f6-995b-408d-885b-52ccf3a26d82",
   "metadata": {},
   "outputs": [
    {
     "data": {
      "text/plain": [
       "type                int32\n",
       "amount            float64\n",
       "newbalanceOrig    float64\n",
       "newbalanceDest    float64\n",
       "isFraud             int64\n",
       "dtype: object"
      ]
     },
     "execution_count": 9,
     "metadata": {},
     "output_type": "execute_result"
    }
   ],
   "source": [
    "data.dtypes"
   ]
  },
  {
   "cell_type": "markdown",
   "id": "7fcce630-a58b-40da-a28c-c48f5b48fafd",
   "metadata": {},
   "source": [
    "## Splitting the data into **training data** and **validation data**"
   ]
  },
  {
   "cell_type": "code",
   "execution_count": 10,
   "id": "1bfca831-5d39-447a-819f-b62dce05887d",
   "metadata": {},
   "outputs": [],
   "source": [
    "from sklearn.model_selection import train_test_split\n",
    "\n",
    "X_train, X_test, y_train, y_test = train_test_split(X, y, test_size = 0.2, random_state = 45)"
   ]
  },
  {
   "cell_type": "code",
   "execution_count": 11,
   "id": "d56e5bb3-df61-4826-b396-14bede39ad2c",
   "metadata": {},
   "outputs": [],
   "source": [
    "from sklearn.preprocessing import StandardScaler\n",
    "\n",
    "#Applying feature scaling\n",
    "scaler = StandardScaler()\n",
    "X_train = scaler.fit_transform(X_train)\n",
    "X_test = scaler.transform(X_test)"
   ]
  },
  {
   "cell_type": "markdown",
   "id": "8cc16a82-c95f-4f71-b4fb-40f677bb34fa",
   "metadata": {},
   "source": [
    "### I will establish **Hyperparameters** for the computer to systematically search the best hyperparameters for a given machine learning model."
   ]
  },
  {
   "cell_type": "code",
   "execution_count": 13,
   "id": "dc377bc2-49ef-44ec-b9ec-ccc75c444cd7",
   "metadata": {},
   "outputs": [],
   "source": [
    "from sklearn.model_selection import GridSearchCV\n",
    "\n",
    "# Different models for classification so we get the best result\n",
    "from sklearn.linear_model import LogisticRegression\n",
    "from sklearn.ensemble import RandomForestClassifier\n",
    "from xgboost import XGBClassifier\n",
    "\n",
    "from sklearn.metrics import  classification_report"
   ]
  },
  {
   "cell_type": "markdown",
   "id": "43ddebee-f20f-46bb-a520-ed59afd5fdc2",
   "metadata": {},
   "source": [
    "## Using Logistic Regression"
   ]
  },
  {
   "cell_type": "code",
   "execution_count": 14,
   "id": "6cfb581f-37bd-4dc6-8702-86eeb48c14a5",
   "metadata": {},
   "outputs": [
    {
     "name": "stdout",
     "output_type": "stream",
     "text": [
      "Best Hyperparameters: {'C': 100, 'penalty': 'l2'}\n",
      "Best Estimator: LogisticRegression(C=100, max_iter=500)\n",
      "              precision    recall  f1-score   support\n",
      "\n",
      "           0       0.60      0.83      0.69       606\n",
      "           1       0.87      0.68      0.76      1043\n",
      "\n",
      "    accuracy                           0.73      1649\n",
      "   macro avg       0.73      0.75      0.73      1649\n",
      "weighted avg       0.77      0.73      0.74      1649\n",
      "\n"
     ]
    }
   ],
   "source": [
    "logic = LogisticRegression(solver='lbfgs', max_iter=500)\n",
    "\n",
    "# Hyperparameter grid\n",
    "hyperparameters = {\n",
    "    'penalty': ['l2'],\n",
    "    'C': [1, 10, 100]\n",
    "}\n",
    "\n",
    "# GridSearchCV\n",
    "lr_classifier = GridSearchCV(\n",
    "    estimator=logic,\n",
    "    param_grid=hyperparameters,\n",
    "    cv=5,\n",
    "    scoring='accuracy'\n",
    ")\n",
    "\n",
    "lr_classifier.fit(X_train, y_train)\n",
    "\n",
    "y_pred = lr_classifier.predict(X_test)\n",
    "\n",
    "# Best hyperparameters\n",
    "print(\"Best Hyperparameters:\", lr_classifier.best_params_)\n",
    "# Best model\n",
    "print(\"Best Estimator:\", lr_classifier.best_estimator_)\n",
    "# Classification report (focus on precision and f1-score)\n",
    "print(classification_report(y_pred, y_test))"
   ]
  },
  {
   "cell_type": "markdown",
   "id": "68bc8a1e-de0c-43a0-940d-c7b1b00d0920",
   "metadata": {},
   "source": [
    "## Using Random Forest"
   ]
  },
  {
   "cell_type": "code",
   "execution_count": 15,
   "id": "27aebd45-49f5-4994-b7c1-5ff11059501c",
   "metadata": {},
   "outputs": [
    {
     "name": "stdout",
     "output_type": "stream",
     "text": [
      "Best Hyperparameters: {'n_estimators': 100}\n",
      "Best Estimator: RandomForestClassifier(criterion='entropy')\n",
      "              precision    recall  f1-score   support\n",
      "\n",
      "           0       0.79      0.77      0.78       865\n",
      "           1       0.75      0.78      0.77       784\n",
      "\n",
      "    accuracy                           0.78      1649\n",
      "   macro avg       0.77      0.78      0.77      1649\n",
      "weighted avg       0.78      0.78      0.78      1649\n",
      "\n"
     ]
    }
   ],
   "source": [
    "# Random Forest model\n",
    "rfc = RandomForestClassifier(criterion='entropy')\n",
    "\n",
    "# Hyperparameter grid\n",
    "hyperparameters = {\n",
    "    'n_estimators': [100, 200, 300, 500],\n",
    "}\n",
    "\n",
    "# GridSearchCV\n",
    "rf_classifier = GridSearchCV(\n",
    "    estimator=rfc,\n",
    "    param_grid=hyperparameters,\n",
    "    cv=5,\n",
    "    scoring='accuracy'\n",
    ")\n",
    "\n",
    "# Train\n",
    "rf_classifier.fit(X_train, y_train)\n",
    "\n",
    "# Predict\n",
    "y_pred_2 = rf_classifier.predict(X_test)\n",
    "\n",
    "# Best hyperparameters\n",
    "print(\"Best Hyperparameters:\", rf_classifier.best_params_)\n",
    "# Best model\n",
    "print(\"Best Estimator:\", rf_classifier.best_estimator_)\n",
    "# Classification report (focus on precision and f1-score)\n",
    "print(classification_report(y_pred_2, y_test))"
   ]
  },
  {
   "cell_type": "markdown",
   "id": "fb69b1e7-0f5b-45d8-8e67-8d9fbdccda06",
   "metadata": {},
   "source": [
    "## Using XGB Classifier"
   ]
  },
  {
   "cell_type": "code",
   "execution_count": 16,
   "id": "56f3f424-dcf7-4547-91d5-0aa7135ccbc8",
   "metadata": {},
   "outputs": [
    {
     "name": "stdout",
     "output_type": "stream",
     "text": [
      "Fitting 5 folds for each of 27 candidates, totalling 135 fits\n",
      "Best Hyperparameters: {'learning_rate': 0.01, 'max_depth': 6, 'n_estimators': 500}\n",
      "Best Estimator: XGBClassifier(base_score=None, booster=None, callbacks=None,\n",
      "              colsample_bylevel=None, colsample_bynode=None,\n",
      "              colsample_bytree=None, device=None, early_stopping_rounds=None,\n",
      "              enable_categorical=False, eval_metric='logloss',\n",
      "              feature_types=None, gamma=None, grow_policy=None,\n",
      "              importance_type=None, interaction_constraints=None,\n",
      "              learning_rate=0.01, max_bin=None, max_cat_threshold=None,\n",
      "              max_cat_to_onehot=None, max_delta_step=None, max_depth=6,\n",
      "              max_leaves=None, min_child_weight=None, missing=nan,\n",
      "              monotone_constraints=None, multi_strategy=None, n_estimators=500,\n",
      "              n_jobs=None, num_parallel_tree=None, random_state=None, ...)\n",
      "              precision    recall  f1-score   support\n",
      "\n",
      "           0       0.82      0.81      0.81       838\n",
      "           1       0.81      0.82      0.81       811\n",
      "\n",
      "    accuracy                           0.81      1649\n",
      "   macro avg       0.81      0.81      0.81      1649\n",
      "weighted avg       0.81      0.81      0.81      1649\n",
      "\n"
     ]
    }
   ],
   "source": [
    "# XGB Classifier Model\n",
    "xgb = XGBClassifier(\n",
    "    use_label_encoder=False,   # Suppress warning about label encoder\n",
    "    eval_metric='logloss'      # Suppress warning about eval_metric\n",
    ")\n",
    "\n",
    "# Hyperparameter grid\n",
    "hyperparameters = {\n",
    "    'max_depth': [3, 6, 10],              # Maximum depth of a tree\n",
    "    'learning_rate': [0.01, 0.05, 0.1],   # Step size shrinkage \n",
    "    'n_estimators': [100, 500, 1000],     # Number of boosting rounds\n",
    "}\n",
    "\n",
    "# GridSearchCV\n",
    "xgb_classifier = GridSearchCV(\n",
    "    estimator=xgb,\n",
    "    param_grid=hyperparameters,\n",
    "    cv=5,\n",
    "    scoring='average_precision',\n",
    "    verbose=1,\n",
    "    n_jobs=-1\n",
    ")\n",
    "\n",
    "# Train\n",
    "xgb_classifier.fit(X_train, y_train)\n",
    "\n",
    "# Predict\n",
    "y_pred_3 = xgb_classifier.predict(X_test)\n",
    "\n",
    "# Best hyperparameters\n",
    "print(\"Best Hyperparameters:\", xgb_classifier.best_params_)\n",
    "# Best model\n",
    "print(\"Best Estimator:\", xgb_classifier.best_estimator_)\n",
    "# Classification report (focus on precision and f1-score)\n",
    "print(classification_report(y_test, y_pred_3))"
   ]
  },
  {
   "cell_type": "markdown",
   "id": "9a1b3b06-4e50-4dde-a0fa-170da004e1e7",
   "metadata": {},
   "source": [
    "- ### Based on the three models and various hyperparameters, from the classification report, we can see that the \"**XGBClassifier**\" is the best model.\n",
    "- ### XGBClassifier performs the best when it comes to ***Precision*** and ***F1-Score***."
   ]
  },
  {
   "cell_type": "markdown",
   "id": "0017c3ae-5e9d-485a-8ae8-b58786110d31",
   "metadata": {},
   "source": [
    "## Visual Model Result"
   ]
  },
  {
   "cell_type": "markdown",
   "id": "45a7c139-6745-4918-98fe-59e3abaac6ca",
   "metadata": {},
   "source": [
    "### Confusion Matrix"
   ]
  },
  {
   "cell_type": "code",
   "execution_count": 17,
   "id": "31f30b33-1a3b-4e37-842b-b10e5ae67ad1",
   "metadata": {},
   "outputs": [
    {
     "name": "stdout",
     "output_type": "stream",
     "text": [
      "Confusion Matrix for XGBoost Classifier\n"
     ]
    },
    {
     "data": {
      "image/png": "[encoded data removed]",
      "text/plain": [
       "<Figure size 600x600 with 2 Axes>"
      ]
     },
     "metadata": {},
     "output_type": "display_data"
    }
   ],
   "source": [
    "from sklearn.metrics import confusion_matrix, ConfusionMatrixDisplay, precision_recall_curve, auc\n",
    "import matplotlib.pyplot as plt\n",
    "import seaborn as sns\n",
    "\n",
    "# Create and plot the confusion matrix\n",
    "print(\"Confusion Matrix for XGBoost Classifier\")\n",
    "cm = confusion_matrix(y_test, y_pred_3)\n",
    "disp = ConfusionMatrixDisplay(confusion_matrix=cm)\n",
    "fig, ax = plt.subplots(figsize=(6, 6))\n",
    "disp.plot(cmap='Blues', ax=ax, values_format='d')  # 'd' formats numbers as integers\n",
    "plt.title('Confusion Matrix - XGBoost')\n",
    "plt.grid(False) \n",
    "plt.show()"
   ]
  },
  {
   "cell_type": "markdown",
   "id": "083763a2-83a6-4eca-aa9f-cabed32e8956",
   "metadata": {},
   "source": [
    "### Precision-Recall Curve"
   ]
  },
  {
   "cell_type": "code",
   "execution_count": 18,
   "id": "8e68a7dd-89de-4001-be43-9bfca425de77",
   "metadata": {},
   "outputs": [
    {
     "data": {
      "image/png": "[encoded data removed]",
      "text/plain": [
       "<Figure size 800x600 with 1 Axes>"
      ]
     },
     "metadata": {},
     "output_type": "display_data"
    },
    {
     "name": "stdout",
     "output_type": "stream",
     "text": [
      "Baseline (naive classifier): 0.4918\n",
      "Area Under PR Curve (PR AUC): 0.9178\n"
     ]
    }
   ],
   "source": [
    "y_scores = xgb_classifier.predict_proba(X_test)[:, 1]\n",
    "\n",
    "# Calculate precision-recall curve points\n",
    "precision, recall, thresholds = precision_recall_curve(y_test, y_scores)\n",
    "\n",
    "# Calculate the Area Under the Precision-Recall Curve (PR AUC)\n",
    "pr_auc = auc(recall, precision)\n",
    "\n",
    "# Plot the Precision-Recall Curve\n",
    "plt.figure(figsize=(8, 6))\n",
    "plt.plot(recall, precision, marker='.', label=f'XGBoost (PR AUC = {pr_auc:.4f})', color='navy')\n",
    "plt.xlabel('Recall')\n",
    "plt.ylabel('Precision')\n",
    "plt.title('Precision-Recall Curve - XGBoost')\n",
    "plt.legend(loc='best')\n",
    "plt.grid(True, alpha=0.3)\n",
    "\n",
    "# The baseline is the proportion of positive cases in the test set\n",
    "baseline = len(y_test[y_test==1]) / len(y_test)\n",
    "plt.axhline(y=baseline, color='r', linestyle='--', label=f'Baseline ({baseline:.4f})')\n",
    "plt.legend()\n",
    "\n",
    "plt.show()\n",
    "\n",
    "# Print a helpful interpretation\n",
    "print(f\"Baseline (naive classifier): {baseline:.4f}\")\n",
    "print(f\"Area Under PR Curve (PR AUC): {pr_auc:.4f}\")"
   ]
  },
  {
   "cell_type": "markdown",
   "id": "6a6eab7b-c816-4b25-8e9e-44f8ea73308c",
   "metadata": {},
   "source": [
    "- A model with no skill would be a horizontal line at y = baseline.\n",
    "- The closer the curve is to the top-right corner, the better the model.\n",
    "- A higher PR AUC (closer to 1.0) indicates better performance."
   ]
  },
  {
   "cell_type": "markdown",
   "id": "69404a10-5cbe-46a9-aa69-6bd212bde449",
   "metadata": {},
   "source": [
    "### Save the models and dataset"
   ]
  },
  {
   "cell_type": "code",
   "execution_count": 19,
   "id": "fd8b53fb-0827-4563-b246-dbae93226618",
   "metadata": {},
   "outputs": [],
   "source": [
    "# Save to CSV\n",
    "data.to_csv(\"Fraud_final.csv\", index=False)  # index=False prevents pandas from writing row numbers\n",
    "\n",
    "import pickle\n",
    "\n",
    "# Save the best model (xgb classifier)\n",
    "with open(\"best_model.pkl\", \"wb\") as f:\n",
    "    pickle.dump(xgb_classifier.best_estimator_, f)\n",
    "\n",
    "# Save the Scaler (SStandardScaler)\n",
    "with open(\"f_scaler.pkl\", \"wb\") as f:\n",
    "    pickle.dump(scaler, f)"
   ]
  }
 ],
 "metadata": {
  "kernelspec": {
   "display_name": "Python 3 (ipykernel)",
   "language": "python",
   "name": "python3"
  },
  "language_info": {
   "codemirror_mode": {
    "name": "ipython",
    "version": 3
   },
   "file_extension": ".py",
   "mimetype": "text/x-python",
   "name": "python",
   "nbconvert_exporter": "python",
   "pygments_lexer": "ipython3",
   "version": "3.11.3"
  }
 },
 "nbformat": 4,
 "nbformat_minor": 5
}
